{
 "cells": [
  {
   "cell_type": "code",
   "execution_count": 1,
   "metadata": {},
   "outputs": [],
   "source": [
    "import torch\n",
    "import torchvision"
   ]
  },
  {
   "cell_type": "markdown",
   "metadata": {},
   "source": [
    "## Torch Tensors"
   ]
  },
  {
   "cell_type": "code",
   "execution_count": 2,
   "metadata": {},
   "outputs": [
    {
     "name": "stdout",
     "output_type": "stream",
     "text": [
      "tensor([2, 2, 1])\n"
     ]
    }
   ],
   "source": [
    "# This is a 1-D tensor\n",
    "a = torch.tensor([2, 2, 1])\n",
    "print(a)"
   ]
  },
  {
   "cell_type": "code",
   "execution_count": 15,
   "metadata": {},
   "outputs": [
    {
     "name": "stdout",
     "output_type": "stream",
     "text": [
      "tensor([[ 1,  2,  3],\n",
      "        [ 4,  5,  6],\n",
      "        [ 7,  8,  9],\n",
      "        [10, 11, 12]])\n"
     ]
    }
   ],
   "source": [
    "# This is a 2-D Tensor\n",
    "b = torch.tensor([[1,2,3], [4,5,6], [7,8,9], [10, 11, 12]])\n",
    "print(b)"
   ]
  },
  {
   "cell_type": "code",
   "execution_count": 16,
   "metadata": {},
   "outputs": [
    {
     "name": "stdout",
     "output_type": "stream",
     "text": [
      "a shape: torch.Size([3]), b shape: torch.Size([4, 3])\n",
      "a size: torch.Size([3]), b size: torch.Size([4, 3])\n"
     ]
    }
   ],
   "source": [
    "# This is a shape and size of tensor\n",
    "print(\"a shape: {}, b shape: {}\".format(a.shape, b.shape))\n",
    "print(\"a size: {}, b size: {}\".format(a.size(), b.size()))"
   ]
  },
  {
   "cell_type": "code",
   "execution_count": 8,
   "metadata": {},
   "outputs": [
    {
     "name": "stdout",
     "output_type": "stream",
     "text": [
      "tensor([[1., 2., 3.],\n",
      "        [4., 5., 6.]])\n",
      "tensor([[1., 2., 3.],\n",
      "        [4., 5., 6.]])\n"
     ]
    }
   ],
   "source": [
    "# This is a float tensor\n",
    "c = torch.FloatTensor([[1,2,3], [4,5,6]])\n",
    "print(c)\n",
    "c = torch.tensor([[1,2,3], [4,5,6]], dtype=torch.float)\n",
    "print(c)"
   ]
  },
  {
   "cell_type": "code",
   "execution_count": 9,
   "metadata": {},
   "outputs": [
    {
     "name": "stdout",
     "output_type": "stream",
     "text": [
      "tensor([1., 2., 3.], dtype=torch.float64)\n",
      "tensor([1., 2., 3.], dtype=torch.float64)\n"
     ]
    }
   ],
   "source": [
    "# This is a double tensor\n",
    "d = torch.DoubleTensor([1,2,3])\n",
    "print(d)\n",
    "d = torch.tensor([1,2,3], dtype=torch.double)\n",
    "print(d)"
   ]
  },
  {
   "cell_type": "code",
   "execution_count": 11,
   "metadata": {},
   "outputs": [
    {
     "name": "stdout",
     "output_type": "stream",
     "text": [
      "dtype of c: torch.float32, dtype of d: torch.float64\n"
     ]
    }
   ],
   "source": [
    "# This is dtype of tensors\n",
    "print(\"dtype of c: {}, dtype of d: {}\".format(c.dtype, d.dtype))"
   ]
  },
  {
   "cell_type": "code",
   "execution_count": 12,
   "metadata": {},
   "outputs": [
    {
     "name": "stdout",
     "output_type": "stream",
     "text": [
      "mean c: 3.5, mean d: 2.0\n",
      "std c: 1.8708287477493286, std d: 1.0\n"
     ]
    }
   ],
   "source": [
    "# There are the mean and standard deviation of tensors\n",
    "print(\"mean c: {}, mean d: {}\".format(c.mean(), d.mean()))\n",
    "print(\"std c: {}, std d: {}\".format(c.std(), d.std()))"
   ]
  },
  {
   "cell_type": "markdown",
   "metadata": {},
   "source": [
    "### Reshape"
   ]
  },
  {
   "cell_type": "code",
   "execution_count": 22,
   "metadata": {
    "scrolled": false
   },
   "outputs": [
    {
     "name": "stdout",
     "output_type": "stream",
     "text": [
      "tensor([[ 1],\n",
      "        [ 2],\n",
      "        [ 3],\n",
      "        [ 4],\n",
      "        [ 5],\n",
      "        [ 6],\n",
      "        [ 7],\n",
      "        [ 8],\n",
      "        [ 9],\n",
      "        [10],\n",
      "        [11],\n",
      "        [12]])\n",
      "tensor([ 1,  2,  3,  4,  5,  6,  7,  8,  9, 10, 11, 12])\n",
      "tensor([[ 1,  2,  3,  4],\n",
      "        [ 5,  6,  7,  8],\n",
      "        [ 9, 10, 11, 12]])\n",
      "tensor([[ 1,  2,  3],\n",
      "        [ 4,  5,  6],\n",
      "        [ 7,  8,  9],\n",
      "        [10, 11, 12]])\n"
     ]
    }
   ],
   "source": [
    "# if one of the dimension is -1, its size can be inferred\n",
    "print(b.view(-1,1))\n",
    "print(b.view(12))\n",
    "print(b.view(-1,4))\n",
    "print(b.view(4,3))"
   ]
  },
  {
   "cell_type": "code",
   "execution_count": 23,
   "metadata": {},
   "outputs": [
    {
     "name": "stdout",
     "output_type": "stream",
     "text": [
      "tensor([[ 1,  2,  3,  4,  5,  6,  7,  8,  9, 10, 11, 12]])\n",
      "torch.Size([1, 12])\n"
     ]
    }
   ],
   "source": [
    "b = b.view(1, -1)\n",
    "print(b)\n",
    "print(b.shape)"
   ]
  },
  {
   "cell_type": "markdown",
   "metadata": {},
   "source": [
    "### 3-D Tensor\n",
    "(channels - rows - columns)"
   ]
  },
  {
   "cell_type": "code",
   "execution_count": 24,
   "metadata": {},
   "outputs": [
    {
     "name": "stdout",
     "output_type": "stream",
     "text": [
      "tensor([[[-1.1770,  1.0313, -0.4223,  0.3663],\n",
      "         [ 0.8792,  0.9453,  0.9844,  0.9271],\n",
      "         [ 0.0397,  0.9875,  0.6541,  0.9224]],\n",
      "\n",
      "        [[ 0.0404,  0.5773,  0.5428, -1.4970],\n",
      "         [-0.1100, -0.8215, -1.4823,  0.4505],\n",
      "         [-0.6834,  0.8017,  1.2622,  0.6815]]])\n",
      "tensor([[-1.1770,  1.0313, -0.4223,  0.3663,  0.8792,  0.9453,  0.9844,  0.9271,\n",
      "          0.0397,  0.9875,  0.6541,  0.9224],\n",
      "        [ 0.0404,  0.5773,  0.5428, -1.4970, -0.1100, -0.8215, -1.4823,  0.4505,\n",
      "         -0.6834,  0.8017,  1.2622,  0.6815]])\n",
      "tensor([[-1.1770,  1.0313, -0.4223,  0.3663,  0.8792,  0.9453,  0.9844,  0.9271,\n",
      "          0.0397,  0.9875,  0.6541,  0.9224],\n",
      "        [ 0.0404,  0.5773,  0.5428, -1.4970, -0.1100, -0.8215, -1.4823,  0.4505,\n",
      "         -0.6834,  0.8017,  1.2622,  0.6815]])\n"
     ]
    }
   ],
   "source": [
    "# This is 3-D Tensor with 2 channels, 3 rows, 4 columns\n",
    "three_tensor = torch.randn(2, 3, 4)\n",
    "print(three_tensor)\n",
    "print(three_tensor.view(2, 12))\n",
    "print(three_tensor.view(2, -1))"
   ]
  },
  {
   "cell_type": "markdown",
   "metadata": {},
   "source": [
    "### Matrix"
   ]
  },
  {
   "cell_type": "code",
   "execution_count": 25,
   "metadata": {},
   "outputs": [
    {
     "data": {
      "text/plain": [
       "tensor([[0.5195, 0.9510, 0.2776, 0.3511],\n",
       "        [0.7656, 0.5406, 0.4647, 0.9470],\n",
       "        [0.4584, 0.5397, 0.5138, 0.8047],\n",
       "        [0.0048, 0.5370, 0.5054, 0.6994]])"
      ]
     },
     "execution_count": 25,
     "metadata": {},
     "output_type": "execute_result"
    }
   ],
   "source": [
    "# This is matrix with random numbers between 0 and 1\n",
    "r = torch.rand(4,4)\n",
    "r"
   ]
  },
  {
   "cell_type": "code",
   "execution_count": 26,
   "metadata": {},
   "outputs": [
    {
     "name": "stdout",
     "output_type": "stream",
     "text": [
      "tensor([[ 1.5113, -1.7348, -0.3191, -0.5814],\n",
      "        [-0.6495,  0.2276,  0.5431, -0.2975],\n",
      "        [-0.2255, -0.3163,  0.1784, -0.7139],\n",
      "        [-0.6109, -0.5461,  0.4431, -0.9375]])\n",
      "torch.float32\n"
     ]
    }
   ],
   "source": [
    "# This is matrix with random numbers taken from normal distribution (mean = 0, variance = 1)\n",
    "r2 = torch.randn(4,4)\n",
    "print(r2)\n",
    "print(r2.dtype)"
   ]
  },
  {
   "cell_type": "code",
   "execution_count": 27,
   "metadata": {},
   "outputs": [
    {
     "data": {
      "text/plain": [
       "tensor([7, 6, 7, 7, 6])"
      ]
     },
     "execution_count": 27,
     "metadata": {},
     "output_type": "execute_result"
    }
   ],
   "source": [
    "# This is array of 5 integers from values between 6 and 9 (exclusive of 10)\n",
    "int_arr = torch.randint(6, 10, (5,))\n",
    "int_arr"
   ]
  },
  {
   "cell_type": "code",
   "execution_count": 28,
   "metadata": {},
   "outputs": [
    {
     "data": {
      "text/plain": [
       "tensor([[6, 7, 8],\n",
       "        [6, 6, 8],\n",
       "        [7, 9, 6]])"
      ]
     },
     "execution_count": 28,
     "metadata": {},
     "output_type": "execute_result"
    }
   ],
   "source": [
    "# This is 2-D array integers\n",
    "int_arr2 = torch.randint(6, 10, (3,3))\n",
    "int_arr2"
   ]
  },
  {
   "cell_type": "code",
   "execution_count": 29,
   "metadata": {},
   "outputs": [
    {
     "name": "stdout",
     "output_type": "stream",
     "text": [
      "5\n",
      "9\n"
     ]
    }
   ],
   "source": [
    "# Get number of elements\n",
    "print(torch.numel(int_arr))\n",
    "print(torch.numel(int_arr2))"
   ]
  },
  {
   "cell_type": "code",
   "execution_count": 30,
   "metadata": {},
   "outputs": [
    {
     "name": "stdout",
     "output_type": "stream",
     "text": [
      "tensor([[0, 0, 0],\n",
      "        [0, 0, 0],\n",
      "        [0, 0, 0]])\n",
      "torch.int64\n",
      "tensor([[1., 1., 1.],\n",
      "        [1., 1., 1.],\n",
      "        [1., 1., 1.]])\n",
      "torch.float32\n"
     ]
    }
   ],
   "source": [
    "# This is matrix of zeros\n",
    "zeros = torch.zeros(3, 3, dtype=torch.long)\n",
    "# This is matrix of ones\n",
    "ones = torch.ones(3, 3)\n",
    "print(zeros)\n",
    "print(zeros.dtype)\n",
    "print(ones)\n",
    "print(ones.dtype)"
   ]
  },
  {
   "cell_type": "code",
   "execution_count": 31,
   "metadata": {},
   "outputs": [
    {
     "data": {
      "text/plain": [
       "tensor([[ 2.0308, -0.7837, -0.0415, -0.2302],\n",
       "        [ 0.1161,  0.7682,  1.0077,  0.6495],\n",
       "        [ 0.2329,  0.2234,  0.6922,  0.0908],\n",
       "        [-0.6061, -0.0091,  0.9485, -0.2381]])"
      ]
     },
     "execution_count": 31,
     "metadata": {},
     "output_type": "execute_result"
    }
   ],
   "source": [
    "# Add two tensors, make sure they are same size and data type\n",
    "add_results = torch.add(r, r2)\n",
    "add_results"
   ]
  },
  {
   "cell_type": "code",
   "execution_count": 32,
   "metadata": {},
   "outputs": [
    {
     "data": {
      "text/plain": [
       "tensor([[False, False, False, False],\n",
       "        [False, False, False, False],\n",
       "        [False, False, False, False],\n",
       "        [False, False, False, False]])"
      ]
     },
     "execution_count": 32,
     "metadata": {},
     "output_type": "execute_result"
    }
   ],
   "source": [
    "# In-place addition => change value of r2\n",
    "r2 == r2.add(r)"
   ]
  },
  {
   "cell_type": "markdown",
   "metadata": {},
   "source": [
    "### Slicing"
   ]
  },
  {
   "cell_type": "code",
   "execution_count": 33,
   "metadata": {},
   "outputs": [
    {
     "name": "stdout",
     "output_type": "stream",
     "text": [
      "tensor([-1.7348,  0.2276, -0.3163, -0.5461])\n",
      "tensor([[ 1.5113, -1.7348],\n",
      "        [-0.6495,  0.2276],\n",
      "        [-0.2255, -0.3163],\n",
      "        [-0.6109, -0.5461]])\n",
      "tensor([[ 1.5113, -1.7348, -0.3191, -0.5814],\n",
      "        [-0.6495,  0.2276,  0.5431, -0.2975],\n",
      "        [-0.2255, -0.3163,  0.1784, -0.7139]])\n"
     ]
    }
   ],
   "source": [
    "print(r2[:,1])\n",
    "print(r2[:,:2])\n",
    "print(r2[:3,:])"
   ]
  },
  {
   "cell_type": "code",
   "execution_count": 34,
   "metadata": {},
   "outputs": [
    {
     "name": "stdout",
     "output_type": "stream",
     "text": [
      "tensor(-0.7139)\n",
      "-0.713896632194519\n",
      "tensor([-0.2255, -0.3163,  0.1784, -0.7139])\n"
     ]
    }
   ],
   "source": [
    "num_ten = r2[2,3]\n",
    "print(num_ten)\n",
    "print(num_ten.item())\n",
    "print(r2[2,:])"
   ]
  },
  {
   "cell_type": "code",
   "execution_count": null,
   "metadata": {},
   "outputs": [],
   "source": []
  }
 ],
 "metadata": {
  "kernelspec": {
   "display_name": "Python 3",
   "language": "python",
   "name": "python3"
  },
  "language_info": {
   "codemirror_mode": {
    "name": "ipython",
    "version": 3
   },
   "file_extension": ".py",
   "mimetype": "text/x-python",
   "name": "python",
   "nbconvert_exporter": "python",
   "pygments_lexer": "ipython3",
   "version": "3.6.8"
  }
 },
 "nbformat": 4,
 "nbformat_minor": 2
}

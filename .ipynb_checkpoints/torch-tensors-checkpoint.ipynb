{
 "cells": [
  {
   "cell_type": "code",
   "execution_count": 1,
   "metadata": {},
   "outputs": [],
   "source": [
    "import torch\n",
    "import torchvision"
   ]
  },
  {
   "cell_type": "markdown",
   "metadata": {},
   "source": [
    "## Torch Tensors"
   ]
  },
  {
   "cell_type": "code",
   "execution_count": 2,
   "metadata": {},
   "outputs": [
    {
     "name": "stdout",
     "output_type": "stream",
     "text": [
      "tensor([2, 2, 1])\n"
     ]
    }
   ],
   "source": [
    "# This is a 1-D tensor\n",
    "a = torch.tensor([2, 2, 1])\n",
    "print(a)"
   ]
  },
  {
   "cell_type": "code",
   "execution_count": 3,
   "metadata": {},
   "outputs": [
    {
     "name": "stdout",
     "output_type": "stream",
     "text": [
      "tensor([[1, 2, 3],\n",
      "        [4, 5, 6],\n",
      "        [7, 8, 9]])\n"
     ]
    }
   ],
   "source": [
    "# This is a 2-D Tensor\n",
    "b = torch.tensor([[1,2,3], [4,5,6], [7,8,9]])\n",
    "print(b)"
   ]
  },
  {
   "cell_type": "code",
   "execution_count": 4,
   "metadata": {},
   "outputs": [
    {
     "name": "stdout",
     "output_type": "stream",
     "text": [
      "a shape: torch.Size([3]), b shape: torch.Size([3, 3])\n",
      "a size: torch.Size([3]), b size: torch.Size([3, 3])\n"
     ]
    }
   ],
   "source": [
    "# This is a shape and size of tensor\n",
    "print(\"a shape: {}, b shape: {}\".format(a.shape, b.shape))\n",
    "print(\"a size: {}, b size: {}\".format(a.size(), b.size()))"
   ]
  },
  {
   "cell_type": "code",
   "execution_count": 8,
   "metadata": {},
   "outputs": [
    {
     "name": "stdout",
     "output_type": "stream",
     "text": [
      "tensor([[1., 2., 3.],\n",
      "        [4., 5., 6.]])\n",
      "tensor([[1., 2., 3.],\n",
      "        [4., 5., 6.]])\n"
     ]
    }
   ],
   "source": [
    "# This is a float tensor\n",
    "c = torch.FloatTensor([[1,2,3], [4,5,6]])\n",
    "print(c)\n",
    "c = torch.tensor([[1,2,3], [4,5,6]], dtype=torch.float)\n",
    "print(c)"
   ]
  },
  {
   "cell_type": "code",
   "execution_count": 9,
   "metadata": {},
   "outputs": [
    {
     "name": "stdout",
     "output_type": "stream",
     "text": [
      "tensor([1., 2., 3.], dtype=torch.float64)\n",
      "tensor([1., 2., 3.], dtype=torch.float64)\n"
     ]
    }
   ],
   "source": [
    "# This is a double tensor\n",
    "d = torch.DoubleTensor([1,2,3])\n",
    "print(d)\n",
    "d = torch.tensor([1,2,3], dtype=torch.double)\n",
    "print(d)"
   ]
  },
  {
   "cell_type": "code",
   "execution_count": 11,
   "metadata": {},
   "outputs": [
    {
     "name": "stdout",
     "output_type": "stream",
     "text": [
      "dtype of c: torch.float32, dtype of d: torch.float64\n"
     ]
    }
   ],
   "source": [
    "# This is dtype of tensors\n",
    "print(\"dtype of c: {}, dtype of d: {}\".format(c.dtype, d.dtype))"
   ]
  },
  {
   "cell_type": "code",
   "execution_count": 12,
   "metadata": {},
   "outputs": [
    {
     "name": "stdout",
     "output_type": "stream",
     "text": [
      "mean c: 3.5, mean d: 2.0\n",
      "std c: 1.8708287477493286, std d: 1.0\n"
     ]
    }
   ],
   "source": [
    "# There are the mean and standard deviation of tensors\n",
    "print(\"mean c: {}, mean d: {}\".format(c.mean(), d.mean()))\n",
    "print(\"std c: {}, std d: {}\".format(c.std(), d.std()))"
   ]
  },
  {
   "cell_type": "code",
   "execution_count": null,
   "metadata": {},
   "outputs": [],
   "source": []
  }
 ],
 "metadata": {
  "kernelspec": {
   "display_name": "Python 3",
   "language": "python",
   "name": "python3"
  },
  "language_info": {
   "codemirror_mode": {
    "name": "ipython",
    "version": 3
   },
   "file_extension": ".py",
   "mimetype": "text/x-python",
   "name": "python",
   "nbconvert_exporter": "python",
   "pygments_lexer": "ipython3",
   "version": "3.6.8"
  }
 },
 "nbformat": 4,
 "nbformat_minor": 2
}
